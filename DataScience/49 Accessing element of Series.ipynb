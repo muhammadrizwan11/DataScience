{
 "cells": [
  {
   "cell_type": "markdown",
   "id": "76ce7e30",
   "metadata": {},
   "source": [
    "# Accessing element of Series\n",
    "#### 1 Accessing Element from Series with Position\n",
    "#### 2 Accessing Element Using Label (index)"
   ]
  },
  {
   "cell_type": "code",
   "execution_count": 1,
   "id": "67b5289c",
   "metadata": {},
   "outputs": [],
   "source": [
    "import pandas as pd"
   ]
  },
  {
   "cell_type": "code",
   "execution_count": 2,
   "id": "26b81489",
   "metadata": {},
   "outputs": [],
   "source": [
    "l = ['a','b','c','d','e','f','g','h']"
   ]
  },
  {
   "cell_type": "code",
   "execution_count": 3,
   "id": "610ee9d9",
   "metadata": {},
   "outputs": [],
   "source": [
    "sr  = pd.Series(l)"
   ]
  },
  {
   "cell_type": "code",
   "execution_count": 4,
   "id": "1e89a33f",
   "metadata": {},
   "outputs": [
    {
     "data": {
      "text/plain": [
       "0    a\n",
       "1    b\n",
       "2    c\n",
       "3    d\n",
       "4    e\n",
       "5    f\n",
       "6    g\n",
       "7    h\n",
       "dtype: object"
      ]
     },
     "execution_count": 4,
     "metadata": {},
     "output_type": "execute_result"
    }
   ],
   "source": [
    "sr"
   ]
  },
  {
   "cell_type": "code",
   "execution_count": 5,
   "id": "726026a0",
   "metadata": {},
   "outputs": [
    {
     "data": {
      "text/plain": [
       "'e'"
      ]
     },
     "execution_count": 5,
     "metadata": {},
     "output_type": "execute_result"
    }
   ],
   "source": [
    "sr[4]"
   ]
  },
  {
   "cell_type": "code",
   "execution_count": 6,
   "id": "499a380f",
   "metadata": {},
   "outputs": [
    {
     "data": {
      "text/plain": [
       "'d'"
      ]
     },
     "execution_count": 6,
     "metadata": {},
     "output_type": "execute_result"
    }
   ],
   "source": [
    "sr[3]"
   ]
  },
  {
   "cell_type": "code",
   "execution_count": 7,
   "id": "a6fd2704",
   "metadata": {},
   "outputs": [
    {
     "name": "stdout",
     "output_type": "stream",
     "text": [
      "11    a\n",
      "12    b\n",
      "13    c\n",
      "14    d\n",
      "15    e\n",
      "16    f\n",
      "17    g\n",
      "18    h\n",
      "dtype: object\n"
     ]
    }
   ],
   "source": [
    "data  = ['a','b','c','d','e','f','g','h']\n",
    "ind =  [11,12,13,14,15,16,17,18]\n",
    "sr1  = pd.Series(data,index=ind)\n",
    "print(sr1)"
   ]
  },
  {
   "cell_type": "code",
   "execution_count": 8,
   "id": "efeea9e2",
   "metadata": {},
   "outputs": [
    {
     "data": {
      "text/plain": [
       "'e'"
      ]
     },
     "execution_count": 8,
     "metadata": {},
     "output_type": "execute_result"
    }
   ],
   "source": [
    "sr1[15]"
   ]
  },
  {
   "cell_type": "markdown",
   "id": "52b4da9f",
   "metadata": {},
   "source": [
    "# Indexing and Selecting Data in Series"
   ]
  },
  {
   "cell_type": "code",
   "execution_count": 10,
   "id": "741bbc63",
   "metadata": {},
   "outputs": [
    {
     "name": "stdout",
     "output_type": "stream",
     "text": [
      "0    a\n",
      "1    b\n",
      "2    c\n",
      "3    d\n",
      "4    e\n",
      "5    f\n",
      "6    g\n",
      "7    h\n",
      "dtype: object\n"
     ]
    }
   ],
   "source": [
    "data  = ['a','b','c','d','e','f','g','h']\n",
    "# ind =  [11,12,13,14,15,16,17,18]\n",
    "sr2  = pd.Series(data)\n",
    "print(sr2)\n"
   ]
  },
  {
   "cell_type": "code",
   "execution_count": 11,
   "id": "61635d01",
   "metadata": {},
   "outputs": [
    {
     "data": {
      "text/plain": [
       "2    c\n",
       "3    d\n",
       "4    e\n",
       "dtype: object"
      ]
     },
     "execution_count": 11,
     "metadata": {},
     "output_type": "execute_result"
    }
   ],
   "source": [
    "sr2[2:5]"
   ]
  },
  {
   "cell_type": "code",
   "execution_count": 12,
   "id": "4d8e54f8",
   "metadata": {},
   "outputs": [
    {
     "data": {
      "text/plain": [
       "2    c\n",
       "3    d\n",
       "4    e\n",
       "5    f\n",
       "6    g\n",
       "7    h\n",
       "dtype: object"
      ]
     },
     "execution_count": 12,
     "metadata": {},
     "output_type": "execute_result"
    }
   ],
   "source": [
    "sr2[2:]"
   ]
  },
  {
   "cell_type": "code",
   "execution_count": 13,
   "id": "7eb4f541",
   "metadata": {},
   "outputs": [
    {
     "data": {
      "text/plain": [
       "0    a\n",
       "1    b\n",
       "2    c\n",
       "3    d\n",
       "4    e\n",
       "dtype: object"
      ]
     },
     "execution_count": 13,
     "metadata": {},
     "output_type": "execute_result"
    }
   ],
   "source": [
    "sr2[: 5]"
   ]
  },
  {
   "cell_type": "code",
   "execution_count": null,
   "id": "5ff11a8d",
   "metadata": {},
   "outputs": [],
   "source": []
  }
 ],
 "metadata": {
  "kernelspec": {
   "display_name": "Python 3 (ipykernel)",
   "language": "python",
   "name": "python3"
  },
  "language_info": {
   "codemirror_mode": {
    "name": "ipython",
    "version": 3
   },
   "file_extension": ".py",
   "mimetype": "text/x-python",
   "name": "python",
   "nbconvert_exporter": "python",
   "pygments_lexer": "ipython3",
   "version": "3.10.9"
  }
 },
 "nbformat": 4,
 "nbformat_minor": 5
}
