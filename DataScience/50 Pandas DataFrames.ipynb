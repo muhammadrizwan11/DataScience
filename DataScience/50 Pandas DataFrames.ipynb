{
 "cells": [
  {
   "cell_type": "markdown",
   "id": "c4f0e399",
   "metadata": {},
   "source": [
    "# Pandas DataFrames\n",
    "A Pandas DataFrame is a 2 dimensional data structure, like a 2 dimensional array, or a table with rows and columns."
   ]
  },
  {
   "cell_type": "markdown",
   "id": "74446329",
   "metadata": {},
   "source": [
    "DataFrame() function is used to create a dataframe in Pandas. The syntax of creating dataframe is:\n",
    "\n",
    "pandas.DataFrame(data, index, columns)"
   ]
  },
  {
   "cell_type": "markdown",
   "id": "95f1a98f",
   "metadata": {},
   "source": [
    "# Creating an empty dataframe : "
   ]
  },
  {
   "cell_type": "code",
   "execution_count": 1,
   "id": "a416b6a9",
   "metadata": {},
   "outputs": [],
   "source": [
    "import pandas as pd"
   ]
  },
  {
   "cell_type": "code",
   "execution_count": 2,
   "id": "67b83503",
   "metadata": {},
   "outputs": [
    {
     "name": "stdout",
     "output_type": "stream",
     "text": [
      "Empty DataFrame\n",
      "Columns: []\n",
      "Index: []\n"
     ]
    }
   ],
   "source": [
    "df = pd.DataFrame()\n",
    "print(df)"
   ]
  },
  {
   "cell_type": "markdown",
   "id": "0ca94260",
   "metadata": {},
   "source": [
    "# Creating a dataframe using List: "
   ]
  },
  {
   "cell_type": "code",
   "execution_count": 6,
   "id": "6da80439",
   "metadata": {},
   "outputs": [],
   "source": [
    "l = ['Ali','Rizwan','Tamoor','Nadeem']\n",
    "ind  = [11,22,33,44]"
   ]
  },
  {
   "cell_type": "code",
   "execution_count": 10,
   "id": "0329e407",
   "metadata": {},
   "outputs": [
    {
     "name": "stdout",
     "output_type": "stream",
     "text": [
      "     Names\n",
      "11     Ali\n",
      "22  Rizwan\n",
      "33  Tamoor\n",
      "44  Nadeem\n"
     ]
    }
   ],
   "source": [
    "df1  = pd.DataFrame(l,index=ind,columns=['Names'])\n",
    "print(df1)"
   ]
  },
  {
   "cell_type": "code",
   "execution_count": null,
   "id": "807e0d0a",
   "metadata": {},
   "outputs": [],
   "source": []
  },
  {
   "cell_type": "markdown",
   "id": "dd2d96b8",
   "metadata": {},
   "source": [
    "#  Creating DataFrame from dict"
   ]
  },
  {
   "cell_type": "code",
   "execution_count": 11,
   "id": "f41ee0ad",
   "metadata": {},
   "outputs": [],
   "source": [
    "dic  = {'Names':['Ali','Rizwan','Tamoor','Nadeem'],\n",
    "       'Age':[22,23,25,30],\n",
    "       'Marks':[90,89,78,99]}"
   ]
  },
  {
   "cell_type": "code",
   "execution_count": 12,
   "id": "32a32560",
   "metadata": {},
   "outputs": [
    {
     "name": "stdout",
     "output_type": "stream",
     "text": [
      "{'Names': ['Ali', 'Rizwan', 'Tamoor', 'Nadeem'], 'Age': [22, 23, 25, 30], 'Marks': [90, 89, 78, 99]}\n"
     ]
    }
   ],
   "source": [
    "print(dic)"
   ]
  },
  {
   "cell_type": "code",
   "execution_count": 14,
   "id": "fbb8b14f",
   "metadata": {},
   "outputs": [
    {
     "name": "stdout",
     "output_type": "stream",
     "text": [
      "    Names  Age  Marks\n",
      "A     Ali   22     90\n",
      "B  Rizwan   23     89\n",
      "C  Tamoor   25     78\n",
      "D  Nadeem   30     99\n"
     ]
    }
   ],
   "source": [
    "df2  = pd.DataFrame(dic,index=['A','B','C','D'])\n",
    "print(df2)"
   ]
  },
  {
   "cell_type": "markdown",
   "id": "134112e9",
   "metadata": {},
   "source": [
    "# Creating a DataFrame by proving index label"
   ]
  },
  {
   "cell_type": "code",
   "execution_count": 15,
   "id": "f35860e3",
   "metadata": {},
   "outputs": [
    {
     "name": "stdout",
     "output_type": "stream",
     "text": [
      "     Names  Age  Marks\n",
      "11     Ali   22     90\n",
      "22  Rizwan   23     89\n",
      "33  Tamoor   25     78\n",
      "44  Nadeem   30     99\n"
     ]
    }
   ],
   "source": [
    "df2  = pd.DataFrame(dic,index=[11,22,33,44])\n",
    "print(df2)"
   ]
  },
  {
   "cell_type": "code",
   "execution_count": null,
   "id": "4d89fefd",
   "metadata": {},
   "outputs": [],
   "source": []
  }
 ],
 "metadata": {
  "kernelspec": {
   "display_name": "Python 3 (ipykernel)",
   "language": "python",
   "name": "python3"
  },
  "language_info": {
   "codemirror_mode": {
    "name": "ipython",
    "version": 3
   },
   "file_extension": ".py",
   "mimetype": "text/x-python",
   "name": "python",
   "nbconvert_exporter": "python",
   "pygments_lexer": "ipython3",
   "version": "3.10.9"
  }
 },
 "nbformat": 4,
 "nbformat_minor": 5
}
