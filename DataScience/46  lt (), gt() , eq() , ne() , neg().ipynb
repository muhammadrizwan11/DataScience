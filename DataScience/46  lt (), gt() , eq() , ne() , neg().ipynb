{
 "cells": [
  {
   "cell_type": "markdown",
   "id": "a48bc7e9",
   "metadata": {},
   "source": [
    "# Numpy numpy.ndarray.lt()\n",
    "# Numpy numpy.ndarray.gt()\n",
    "# Numpy numpy.ndarray.eq()\n",
    "# Numpy numpy.ndarray.ne()\n",
    "# Numpy numpy.ndarray.neg()\n"
   ]
  },
  {
   "cell_type": "markdown",
   "id": "270067a5",
   "metadata": {},
   "source": [
    "# Numpy numpy.ndarray.__lt__()\n",
    "With the help of numpy.ndarray.__lt__() method of Numpy, We can find that which element in an array is less than the value which is provided in the parameter. It will return you numpy array with boolean type having only values True and False."
   ]
  },
  {
   "cell_type": "code",
   "execution_count": 4,
   "id": "8bbc6c3b",
   "metadata": {},
   "outputs": [],
   "source": [
    "\n",
    "import numpy as np"
   ]
  },
  {
   "cell_type": "code",
   "execution_count": 5,
   "id": "2a095a4b",
   "metadata": {},
   "outputs": [
    {
     "name": "stdout",
     "output_type": "stream",
     "text": [
      "[ True  True  True False False False False]\n"
     ]
    }
   ],
   "source": [
    "a  = np.array([1,2,3,4,5,6,7])\n",
    "print(a.__lt__(4))\n",
    "\n"
   ]
  },
  {
   "cell_type": "code",
   "execution_count": 8,
   "id": "42d4a1a8",
   "metadata": {},
   "outputs": [
    {
     "name": "stdout",
     "output_type": "stream",
     "text": [
      "[[ True  True  True False False]\n",
      " [False False False False  True]]\n"
     ]
    }
   ],
   "source": [
    "b = np.array([[1,2,3,4,5],[5,4,7,8,3]])\n",
    "print(b.__lt__(4))"
   ]
  },
  {
   "cell_type": "markdown",
   "id": "2c55ca4e",
   "metadata": {},
   "source": [
    "# Numpy numpy.ndarray.__gt__()\n",
    "With the help of numpy.ndarray.__gt__() method of Numpy, We can find that which element in an array is greater then the value which is provided in the parameter. It will return you numpy array with boolean type having only values True and False."
   ]
  },
  {
   "cell_type": "code",
   "execution_count": 9,
   "id": "79d3ce01",
   "metadata": {},
   "outputs": [
    {
     "name": "stdout",
     "output_type": "stream",
     "text": [
      "[False False False False  True  True  True]\n"
     ]
    }
   ],
   "source": [
    "a  = np.array([1,2,3,4,5,6,7])\n",
    "print(a.__gt__(4))"
   ]
  },
  {
   "cell_type": "code",
   "execution_count": 11,
   "id": "16703c04",
   "metadata": {},
   "outputs": [
    {
     "name": "stdout",
     "output_type": "stream",
     "text": [
      "[[False False False  True  True]\n",
      " [ True  True  True  True False]]\n"
     ]
    }
   ],
   "source": [
    "b = np.array([[1,2,3,4,5],[5,4,7,8,3]])\n",
    "print(b.__gt__(3))"
   ]
  },
  {
   "cell_type": "code",
   "execution_count": null,
   "id": "d2aad307",
   "metadata": {},
   "outputs": [],
   "source": []
  },
  {
   "cell_type": "markdown",
   "id": "8b64d507",
   "metadata": {},
   "source": [
    "# Numpy numpy.ndarray.__eq__()\n",
    "With the help of numpy.ndarray.__eq__() method of Numpy, We can find that which element in an array is equal to the value which is provided in the parameter. It will return you numpy array with boolean type having only values True and False."
   ]
  },
  {
   "cell_type": "code",
   "execution_count": 12,
   "id": "56c00faa",
   "metadata": {},
   "outputs": [
    {
     "name": "stdout",
     "output_type": "stream",
     "text": [
      "[False False False  True False False False]\n"
     ]
    }
   ],
   "source": [
    "a  = np.array([1,2,3,4,5,6,7])\n",
    "print(a.__eq__(4))"
   ]
  },
  {
   "cell_type": "code",
   "execution_count": 13,
   "id": "c7938ea3",
   "metadata": {},
   "outputs": [
    {
     "name": "stdout",
     "output_type": "stream",
     "text": [
      "[[False False  True False False]\n",
      " [False False False False  True]]\n"
     ]
    }
   ],
   "source": [
    "b = np.array([[1,2,3,4,5],[5,4,7,8,3]])\n",
    "print(b.__eq__(3))"
   ]
  },
  {
   "cell_type": "code",
   "execution_count": null,
   "id": "bd93f8ae",
   "metadata": {},
   "outputs": [],
   "source": []
  },
  {
   "cell_type": "code",
   "execution_count": null,
   "id": "3e9c2cbc",
   "metadata": {},
   "outputs": [],
   "source": []
  },
  {
   "cell_type": "markdown",
   "id": "91e77bee",
   "metadata": {},
   "source": [
    "# Numpy numpy.ndarray.__ne__()\n",
    "With the help of numpy.ndarray.__ne__() method of Numpy, We can find that which element in an array is not equal to the value which is provided in the parameter. It will return you numpy array with boolean type having only values True and False."
   ]
  },
  {
   "cell_type": "code",
   "execution_count": 14,
   "id": "128a2f36",
   "metadata": {},
   "outputs": [
    {
     "name": "stdout",
     "output_type": "stream",
     "text": [
      "[ True  True  True False  True  True  True]\n"
     ]
    }
   ],
   "source": [
    "a  = np.array([1,2,3,4,5,6,7])\n",
    "print(a.__ne__(4))"
   ]
  },
  {
   "cell_type": "code",
   "execution_count": 15,
   "id": "9c4d14f5",
   "metadata": {},
   "outputs": [
    {
     "name": "stdout",
     "output_type": "stream",
     "text": [
      "[[ True  True False  True  True]\n",
      " [ True  True  True  True False]]\n"
     ]
    }
   ],
   "source": [
    "b = np.array([[1,2,3,4,5],[5,4,7,8,3]])\n",
    "print(b.__ne__(3))"
   ]
  },
  {
   "cell_type": "code",
   "execution_count": null,
   "id": "64e2c85b",
   "metadata": {},
   "outputs": [],
   "source": []
  },
  {
   "cell_type": "markdown",
   "id": "374e0236",
   "metadata": {},
   "source": [
    "# Numpy numpy.ndarray.__neg__()\n",
    "With the help of numpy.ndarray.__neg__() method of Numpy, one can multiply each and every element of an array with -1. Hence, the resultant array having values like positive values becomes negative and negative values become positive."
   ]
  },
  {
   "cell_type": "code",
   "execution_count": 16,
   "id": "b9d5ccea",
   "metadata": {},
   "outputs": [
    {
     "name": "stdout",
     "output_type": "stream",
     "text": [
      "[ 1 -2 -3  4 -5 -6  7]\n"
     ]
    }
   ],
   "source": [
    "a  = np.array([-1,2,3,-4,5,6,-7])\n",
    "print(a.__neg__())\n"
   ]
  },
  {
   "cell_type": "code",
   "execution_count": null,
   "id": "c90b7305",
   "metadata": {},
   "outputs": [],
   "source": []
  }
 ],
 "metadata": {
  "kernelspec": {
   "display_name": "Python 3 (ipykernel)",
   "language": "python",
   "name": "python3"
  },
  "language_info": {
   "codemirror_mode": {
    "name": "ipython",
    "version": 3
   },
   "file_extension": ".py",
   "mimetype": "text/x-python",
   "name": "python",
   "nbconvert_exporter": "python",
   "pygments_lexer": "ipython3",
   "version": "3.10.9"
  }
 },
 "nbformat": 4,
 "nbformat_minor": 5
}
