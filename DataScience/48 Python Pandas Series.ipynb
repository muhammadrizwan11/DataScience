{
 "cells": [
  {
   "cell_type": "markdown",
   "id": "6fda82ba",
   "metadata": {},
   "source": [
    "# Python Pandas Series\n",
    "Pandas Series is a one-dimensional labeled array capable of holding data of any type (integer, string, float, python objects, etc.)."
   ]
  },
  {
   "cell_type": "markdown",
   "id": "3cfad52b",
   "metadata": {},
   "source": [
    "# Creating a Pandas Series\n",
    "Pandas Series can be created from the lists, dictionary, and from a scalar value etc. Series can be created in different ways, here are some ways by which we create a series:\n",
    "### Creating an empty Series:\n",
    "Series() function of Pandas is used to create a series. A basic series, which can be created is an Empty Series. "
   ]
  },
  {
   "cell_type": "code",
   "execution_count": 1,
   "id": "5b3e8c80",
   "metadata": {},
   "outputs": [],
   "source": [
    "import pandas as pd"
   ]
  },
  {
   "cell_type": "code",
   "execution_count": 2,
   "id": "497264e7",
   "metadata": {},
   "outputs": [
    {
     "name": "stdout",
     "output_type": "stream",
     "text": [
      "Series([], dtype: float64)\n"
     ]
    },
    {
     "name": "stderr",
     "output_type": "stream",
     "text": [
      "C:\\Users\\SOHAIL SONS TRADERS\\AppData\\Local\\Temp\\ipykernel_1508\\1282916020.py:1: FutureWarning: The default dtype for empty Series will be 'object' instead of 'float64' in a future version. Specify a dtype explicitly to silence this warning.\n",
      "  sr = pd.Series()\n"
     ]
    }
   ],
   "source": [
    "sr = pd.Series()\n",
    "print(sr)"
   ]
  },
  {
   "cell_type": "markdown",
   "id": "5f91eb27",
   "metadata": {},
   "source": [
    "# 1 Creating a series from Lists:\n",
    "\n",
    "\n"
   ]
  },
  {
   "cell_type": "code",
   "execution_count": 5,
   "id": "b5ac2872",
   "metadata": {},
   "outputs": [
    {
     "name": "stdout",
     "output_type": "stream",
     "text": [
      "a    11\n",
      "b    22\n",
      "c    33\n",
      "d    44\n",
      "e    55\n",
      "f    66\n",
      "i    77\n",
      "j    88\n",
      "h    99\n",
      "dtype: int64\n"
     ]
    }
   ],
   "source": [
    "l = [11,22,33,44,55,66,77,88,99]\n",
    "i = ['a','b','c','d','e','f','i','j','h']\n",
    "sr1 = pd.Series(l,index=i)\n",
    "print(sr1)"
   ]
  },
  {
   "cell_type": "code",
   "execution_count": null,
   "id": "eda4eba8",
   "metadata": {},
   "outputs": [],
   "source": []
  },
  {
   "cell_type": "code",
   "execution_count": null,
   "id": "d1d8819b",
   "metadata": {},
   "outputs": [],
   "source": []
  },
  {
   "cell_type": "markdown",
   "id": "75442f9d",
   "metadata": {},
   "source": [
    "# 2 Creating a series from array:"
   ]
  },
  {
   "cell_type": "code",
   "execution_count": 6,
   "id": "b0f6737d",
   "metadata": {},
   "outputs": [],
   "source": [
    "import numpy as np"
   ]
  },
  {
   "cell_type": "code",
   "execution_count": 8,
   "id": "43a52b8a",
   "metadata": {},
   "outputs": [
    {
     "name": "stdout",
     "output_type": "stream",
     "text": [
      "a    33\n",
      "b    44\n",
      "c    55\n",
      "d    66\n",
      "e    77\n",
      "f    99\n",
      "dtype: int32\n"
     ]
    }
   ],
   "source": [
    "a  = np.array([33,44,55,66,77,99])\n",
    "i = ['a','b','c','d','e','f']\n",
    "sr2  =  pd.Series(a,index=i)\n",
    "print(sr2)"
   ]
  },
  {
   "cell_type": "code",
   "execution_count": null,
   "id": "d0eac7f6",
   "metadata": {},
   "outputs": [],
   "source": []
  },
  {
   "cell_type": "markdown",
   "id": "fb58431a",
   "metadata": {},
   "source": [
    "# 3 Creating a series from Dictionary:"
   ]
  },
  {
   "cell_type": "code",
   "execution_count": 9,
   "id": "c208df47",
   "metadata": {},
   "outputs": [],
   "source": [
    "d = {'Ali':10,\n",
    "     'Rizwan':33,\n",
    "     'Tamoor':44,\n",
    "     'Hamza':43}"
   ]
  },
  {
   "cell_type": "code",
   "execution_count": 10,
   "id": "025fa061",
   "metadata": {},
   "outputs": [
    {
     "data": {
      "text/plain": [
       "{'Ali': 10, 'Rizwan': 33, 'Tamoor': 44, 'Hamza': 43}"
      ]
     },
     "execution_count": 10,
     "metadata": {},
     "output_type": "execute_result"
    }
   ],
   "source": [
    "d"
   ]
  },
  {
   "cell_type": "code",
   "execution_count": 11,
   "id": "18015e4f",
   "metadata": {},
   "outputs": [
    {
     "name": "stdout",
     "output_type": "stream",
     "text": [
      "Ali       10\n",
      "Rizwan    33\n",
      "Tamoor    44\n",
      "Hamza     43\n",
      "dtype: int64\n"
     ]
    }
   ],
   "source": [
    "sr3  = pd.Series(d)\n",
    "print(sr3)"
   ]
  },
  {
   "cell_type": "markdown",
   "id": "c37d65b5",
   "metadata": {},
   "source": [
    "# 4 Creating a series from Scalar value: "
   ]
  },
  {
   "cell_type": "code",
   "execution_count": 13,
   "id": "bf684bae",
   "metadata": {},
   "outputs": [
    {
     "name": "stdout",
     "output_type": "stream",
     "text": [
      "1    10\n",
      "2    10\n",
      "3    10\n",
      "4    10\n",
      "5    10\n",
      "6    10\n",
      "7    10\n",
      "8    10\n",
      "9    10\n",
      "dtype: int64\n"
     ]
    }
   ],
   "source": [
    "sr4  = pd.Series(10,index=[1,2,3,4,5,6,7,8,9])\n",
    "print(sr4)"
   ]
  },
  {
   "cell_type": "code",
   "execution_count": null,
   "id": "87f5bd0d",
   "metadata": {},
   "outputs": [],
   "source": []
  }
 ],
 "metadata": {
  "kernelspec": {
   "display_name": "Python 3 (ipykernel)",
   "language": "python",
   "name": "python3"
  },
  "language_info": {
   "codemirror_mode": {
    "name": "ipython",
    "version": 3
   },
   "file_extension": ".py",
   "mimetype": "text/x-python",
   "name": "python",
   "nbconvert_exporter": "python",
   "pygments_lexer": "ipython3",
   "version": "3.10.9"
  }
 },
 "nbformat": 4,
 "nbformat_minor": 5
}
