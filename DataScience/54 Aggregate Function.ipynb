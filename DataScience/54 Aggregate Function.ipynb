{
 "cells": [
  {
   "cell_type": "markdown",
   "id": "df659cc6",
   "metadata": {},
   "source": [
    "# Aggregation Functions:\n",
    "Pandas provides a variety of aggregation functions that allow you to compute statistics over columns, such as mean, sum, median, min, max, etc."
   ]
  },
  {
   "cell_type": "code",
   "execution_count": 7,
   "id": "56f948dd",
   "metadata": {},
   "outputs": [
    {
     "name": "stdout",
     "output_type": "stream",
     "text": [
      "   Student_ID     Name  Age Grade  GPA\n",
      "0           1    Alice   20     A  3.8\n",
      "1           2      Bob   21     B  3.2\n",
      "2           3  Charlie   19     B  3.4\n",
      "3           4    David   22     A  3.9\n",
      "4           5      Eva   20     C  2.7\n"
     ]
    }
   ],
   "source": [
    "import pandas as pd\n",
    "\n",
    "data = {\n",
    "    'Student_ID': [1, 2, 3, 4, 5],\n",
    "    'Name': ['Alice', 'Bob', 'Charlie', 'David', 'Eva'],\n",
    "    'Age': [20, 21, 19, 22, 20],\n",
    "    'Grade': ['A', 'B', 'B', 'A', 'C'],\n",
    "    'GPA': [3.8, 3.2, 3.4, 3.9, 2.7]\n",
    "}\n",
    "\n",
    "df = pd.DataFrame(data)\n",
    "\n",
    "print(df)"
   ]
  },
  {
   "cell_type": "markdown",
   "id": "cc2e6e4b",
   "metadata": {},
   "source": [
    "# Maximum()"
   ]
  },
  {
   "cell_type": "code",
   "execution_count": 8,
   "id": "e93ff08d",
   "metadata": {},
   "outputs": [
    {
     "data": {
      "text/plain": [
       "Student_ID      5\n",
       "Name          Eva\n",
       "Age            22\n",
       "Grade           C\n",
       "GPA           3.9\n",
       "dtype: object"
      ]
     },
     "execution_count": 8,
     "metadata": {},
     "output_type": "execute_result"
    }
   ],
   "source": [
    "df.max()"
   ]
  },
  {
   "cell_type": "markdown",
   "id": "5c57e9f7",
   "metadata": {},
   "source": [
    "# Minimum()"
   ]
  },
  {
   "cell_type": "code",
   "execution_count": 9,
   "id": "ecefb235",
   "metadata": {
    "scrolled": true
   },
   "outputs": [
    {
     "data": {
      "text/plain": [
       "Student_ID        1\n",
       "Name          Alice\n",
       "Age              19\n",
       "Grade             A\n",
       "GPA             2.7\n",
       "dtype: object"
      ]
     },
     "execution_count": 9,
     "metadata": {},
     "output_type": "execute_result"
    }
   ],
   "source": [
    "df.min()"
   ]
  },
  {
   "cell_type": "markdown",
   "id": "e30c4d1a",
   "metadata": {},
   "source": [
    "# Mean ()"
   ]
  },
  {
   "cell_type": "code",
   "execution_count": 10,
   "id": "070c80fa",
   "metadata": {},
   "outputs": [
    {
     "name": "stderr",
     "output_type": "stream",
     "text": [
      "C:\\Users\\SOHAIL SONS TRADERS\\AppData\\Local\\Temp\\ipykernel_19392\\3698961737.py:1: FutureWarning: The default value of numeric_only in DataFrame.mean is deprecated. In a future version, it will default to False. In addition, specifying 'numeric_only=None' is deprecated. Select only valid columns or specify the value of numeric_only to silence this warning.\n",
      "  df.mean()\n"
     ]
    },
    {
     "data": {
      "text/plain": [
       "Student_ID     3.0\n",
       "Age           20.4\n",
       "GPA            3.4\n",
       "dtype: float64"
      ]
     },
     "execution_count": 10,
     "metadata": {},
     "output_type": "execute_result"
    }
   ],
   "source": [
    "df.mean()"
   ]
  },
  {
   "cell_type": "markdown",
   "id": "3114d81c",
   "metadata": {},
   "source": [
    "# Sum() "
   ]
  },
  {
   "cell_type": "code",
   "execution_count": 11,
   "id": "af2784d3",
   "metadata": {},
   "outputs": [
    {
     "data": {
      "text/plain": [
       "Student_ID                         15\n",
       "Name          AliceBobCharlieDavidEva\n",
       "Age                               102\n",
       "Grade                           ABBAC\n",
       "GPA                              17.0\n",
       "dtype: object"
      ]
     },
     "execution_count": 11,
     "metadata": {},
     "output_type": "execute_result"
    }
   ],
   "source": [
    "df.sum()"
   ]
  },
  {
   "cell_type": "markdown",
   "id": "fd30a8d6",
   "metadata": {},
   "source": [
    "# Median ()"
   ]
  },
  {
   "cell_type": "code",
   "execution_count": 12,
   "id": "1ff555a8",
   "metadata": {},
   "outputs": [
    {
     "name": "stderr",
     "output_type": "stream",
     "text": [
      "C:\\Users\\SOHAIL SONS TRADERS\\AppData\\Local\\Temp\\ipykernel_19392\\530051474.py:1: FutureWarning: The default value of numeric_only in DataFrame.median is deprecated. In a future version, it will default to False. In addition, specifying 'numeric_only=None' is deprecated. Select only valid columns or specify the value of numeric_only to silence this warning.\n",
      "  df.median()\n"
     ]
    },
    {
     "data": {
      "text/plain": [
       "Student_ID     3.0\n",
       "Age           20.0\n",
       "GPA            3.4\n",
       "dtype: float64"
      ]
     },
     "execution_count": 12,
     "metadata": {},
     "output_type": "execute_result"
    }
   ],
   "source": [
    "df.median()"
   ]
  },
  {
   "cell_type": "markdown",
   "id": "712f13a7",
   "metadata": {},
   "source": [
    "# Count()"
   ]
  },
  {
   "cell_type": "code",
   "execution_count": 13,
   "id": "9f4dc9af",
   "metadata": {},
   "outputs": [
    {
     "data": {
      "text/plain": [
       "Student_ID    5\n",
       "Name          5\n",
       "Age           5\n",
       "Grade         5\n",
       "GPA           5\n",
       "dtype: int64"
      ]
     },
     "execution_count": 13,
     "metadata": {},
     "output_type": "execute_result"
    }
   ],
   "source": [
    "df.count()"
   ]
  },
  {
   "cell_type": "markdown",
   "id": "b1eb2972",
   "metadata": {},
   "source": [
    "# Variance()"
   ]
  },
  {
   "cell_type": "code",
   "execution_count": 14,
   "id": "893d639a",
   "metadata": {},
   "outputs": [
    {
     "name": "stderr",
     "output_type": "stream",
     "text": [
      "C:\\Users\\SOHAIL SONS TRADERS\\AppData\\Local\\Temp\\ipykernel_19392\\1568254755.py:1: FutureWarning: The default value of numeric_only in DataFrame.var is deprecated. In a future version, it will default to False. In addition, specifying 'numeric_only=None' is deprecated. Select only valid columns or specify the value of numeric_only to silence this warning.\n",
      "  df.var()\n"
     ]
    },
    {
     "data": {
      "text/plain": [
       "Student_ID    2.500\n",
       "Age           1.300\n",
       "GPA           0.235\n",
       "dtype: float64"
      ]
     },
     "execution_count": 14,
     "metadata": {},
     "output_type": "execute_result"
    }
   ],
   "source": [
    "df.var()"
   ]
  },
  {
   "cell_type": "markdown",
   "id": "ec116012",
   "metadata": {},
   "source": [
    "# Standard Deviation()"
   ]
  },
  {
   "cell_type": "code",
   "execution_count": 15,
   "id": "a1a689ea",
   "metadata": {},
   "outputs": [
    {
     "name": "stderr",
     "output_type": "stream",
     "text": [
      "C:\\Users\\SOHAIL SONS TRADERS\\AppData\\Local\\Temp\\ipykernel_19392\\3390915376.py:1: FutureWarning: The default value of numeric_only in DataFrame.std is deprecated. In a future version, it will default to False. In addition, specifying 'numeric_only=None' is deprecated. Select only valid columns or specify the value of numeric_only to silence this warning.\n",
      "  df.std()\n"
     ]
    },
    {
     "data": {
      "text/plain": [
       "Student_ID    1.581139\n",
       "Age           1.140175\n",
       "GPA           0.484768\n",
       "dtype: float64"
      ]
     },
     "execution_count": 15,
     "metadata": {},
     "output_type": "execute_result"
    }
   ],
   "source": [
    "df.std()"
   ]
  },
  {
   "cell_type": "markdown",
   "id": "f1548212",
   "metadata": {},
   "source": [
    "# Unique Values Count()"
   ]
  },
  {
   "cell_type": "code",
   "execution_count": 17,
   "id": "c89f2e0a",
   "metadata": {},
   "outputs": [
    {
     "data": {
      "text/plain": [
       "Student_ID    5\n",
       "Name          5\n",
       "Age           4\n",
       "Grade         3\n",
       "GPA           5\n",
       "dtype: int64"
      ]
     },
     "execution_count": 17,
     "metadata": {},
     "output_type": "execute_result"
    }
   ],
   "source": [
    "df.nunique()"
   ]
  },
  {
   "cell_type": "code",
   "execution_count": 18,
   "id": "32b0cb92",
   "metadata": {},
   "outputs": [
    {
     "data": {
      "text/html": [
       "<div>\n",
       "<style scoped>\n",
       "    .dataframe tbody tr th:only-of-type {\n",
       "        vertical-align: middle;\n",
       "    }\n",
       "\n",
       "    .dataframe tbody tr th {\n",
       "        vertical-align: top;\n",
       "    }\n",
       "\n",
       "    .dataframe thead th {\n",
       "        text-align: right;\n",
       "    }\n",
       "</style>\n",
       "<table border=\"1\" class=\"dataframe\">\n",
       "  <thead>\n",
       "    <tr style=\"text-align: right;\">\n",
       "      <th></th>\n",
       "      <th>Student_ID</th>\n",
       "      <th>Name</th>\n",
       "      <th>Age</th>\n",
       "      <th>Grade</th>\n",
       "      <th>GPA</th>\n",
       "    </tr>\n",
       "  </thead>\n",
       "  <tbody>\n",
       "    <tr>\n",
       "      <th>0</th>\n",
       "      <td>1</td>\n",
       "      <td>Alice</td>\n",
       "      <td>20</td>\n",
       "      <td>A</td>\n",
       "      <td>3.8</td>\n",
       "    </tr>\n",
       "    <tr>\n",
       "      <th>1</th>\n",
       "      <td>2</td>\n",
       "      <td>Bob</td>\n",
       "      <td>21</td>\n",
       "      <td>B</td>\n",
       "      <td>3.2</td>\n",
       "    </tr>\n",
       "    <tr>\n",
       "      <th>2</th>\n",
       "      <td>3</td>\n",
       "      <td>Charlie</td>\n",
       "      <td>19</td>\n",
       "      <td>B</td>\n",
       "      <td>3.4</td>\n",
       "    </tr>\n",
       "    <tr>\n",
       "      <th>3</th>\n",
       "      <td>4</td>\n",
       "      <td>David</td>\n",
       "      <td>22</td>\n",
       "      <td>A</td>\n",
       "      <td>3.9</td>\n",
       "    </tr>\n",
       "    <tr>\n",
       "      <th>4</th>\n",
       "      <td>5</td>\n",
       "      <td>Eva</td>\n",
       "      <td>20</td>\n",
       "      <td>C</td>\n",
       "      <td>2.7</td>\n",
       "    </tr>\n",
       "  </tbody>\n",
       "</table>\n",
       "</div>"
      ],
      "text/plain": [
       "   Student_ID     Name  Age Grade  GPA\n",
       "0           1    Alice   20     A  3.8\n",
       "1           2      Bob   21     B  3.2\n",
       "2           3  Charlie   19     B  3.4\n",
       "3           4    David   22     A  3.9\n",
       "4           5      Eva   20     C  2.7"
      ]
     },
     "execution_count": 18,
     "metadata": {},
     "output_type": "execute_result"
    }
   ],
   "source": [
    "df"
   ]
  },
  {
   "cell_type": "code",
   "execution_count": null,
   "id": "e83dfefa",
   "metadata": {},
   "outputs": [],
   "source": []
  }
 ],
 "metadata": {
  "kernelspec": {
   "display_name": "Python 3 (ipykernel)",
   "language": "python",
   "name": "python3"
  },
  "language_info": {
   "codemirror_mode": {
    "name": "ipython",
    "version": 3
   },
   "file_extension": ".py",
   "mimetype": "text/x-python",
   "name": "python",
   "nbconvert_exporter": "python",
   "pygments_lexer": "ipython3",
   "version": "3.10.9"
  }
 },
 "nbformat": 4,
 "nbformat_minor": 5
}
